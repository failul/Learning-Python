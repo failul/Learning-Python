{
 "cells": [
  {
   "cell_type": "code",
   "execution_count": 1,
   "id": "fc6a1536",
   "metadata": {},
   "outputs": [
    {
     "ename": "NameError",
     "evalue": "name 'numpy' is not defined",
     "output_type": "error",
     "traceback": [
      "\u001b[0;31m---------------------------------------------------------------------------\u001b[0m",
      "\u001b[0;31mNameError\u001b[0m                                 Traceback (most recent call last)",
      "Input \u001b[0;32mIn [1]\u001b[0m, in \u001b[0;36m<module>\u001b[0;34m\u001b[0m\n\u001b[0;32m----> 1\u001b[0m \u001b[43mnumpy\u001b[49m\u001b[38;5;241m.\u001b[39mexp(\u001b[38;5;241m5\u001b[39m)\n",
      "\u001b[0;31mNameError\u001b[0m: name 'numpy' is not defined"
     ]
    }
   ],
   "source": [
    "numpy.exp(5)"
   ]
  },
  {
   "cell_type": "code",
   "execution_count": 2,
   "id": "14b3f55e",
   "metadata": {},
   "outputs": [],
   "source": [
    "import numpy as np"
   ]
  },
  {
   "cell_type": "code",
   "execution_count": 3,
   "id": "02cc19a4",
   "metadata": {},
   "outputs": [
    {
     "data": {
      "text/plain": [
       "148.4131591025766"
      ]
     },
     "execution_count": 3,
     "metadata": {},
     "output_type": "execute_result"
    }
   ],
   "source": [
    "np.exp(5)"
   ]
  },
  {
   "cell_type": "code",
   "execution_count": 4,
   "id": "6920c612",
   "metadata": {},
   "outputs": [
    {
     "name": "stdout",
     "output_type": "stream",
     "text": [
      "Requirement already satisfied: yfinance in /Users/failul/opt/miniconda3/lib/python3.9/site-packages (0.1.70)\n",
      "Requirement already satisfied: numpy>=1.15 in /Users/failul/opt/miniconda3/lib/python3.9/site-packages (from yfinance) (1.22.2)\n",
      "Requirement already satisfied: pandas>=0.24.0 in /Users/failul/opt/miniconda3/lib/python3.9/site-packages (from yfinance) (1.4.1)\n",
      "Requirement already satisfied: requests>=2.26 in /Users/failul/opt/miniconda3/lib/python3.9/site-packages (from yfinance) (2.27.1)\n",
      "Requirement already satisfied: lxml>=4.5.1 in /Users/failul/opt/miniconda3/lib/python3.9/site-packages (from yfinance) (4.8.0)\n",
      "Requirement already satisfied: multitasking>=0.0.7 in /Users/failul/opt/miniconda3/lib/python3.9/site-packages (from yfinance) (0.0.9)\n",
      "Requirement already satisfied: python-dateutil>=2.8.1 in /Users/failul/opt/miniconda3/lib/python3.9/site-packages (from pandas>=0.24.0->yfinance) (2.8.2)\n",
      "Requirement already satisfied: pytz>=2020.1 in /Users/failul/opt/miniconda3/lib/python3.9/site-packages (from pandas>=0.24.0->yfinance) (2021.3)\n",
      "Requirement already satisfied: charset-normalizer~=2.0.0 in /Users/failul/opt/miniconda3/lib/python3.9/site-packages (from requests>=2.26->yfinance) (2.0.10)\n",
      "Requirement already satisfied: idna<4,>=2.5 in /Users/failul/opt/miniconda3/lib/python3.9/site-packages (from requests>=2.26->yfinance) (3.3)\n",
      "Requirement already satisfied: urllib3<1.27,>=1.21.1 in /Users/failul/opt/miniconda3/lib/python3.9/site-packages (from requests>=2.26->yfinance) (1.26.8)\n",
      "Requirement already satisfied: certifi>=2017.4.17 in /Users/failul/opt/miniconda3/lib/python3.9/site-packages (from requests>=2.26->yfinance) (2021.10.8)\n",
      "Requirement already satisfied: six>=1.5 in /Users/failul/opt/miniconda3/lib/python3.9/site-packages (from python-dateutil>=2.8.1->pandas>=0.24.0->yfinance) (1.16.0)\n",
      "Note: you may need to restart the kernel to use updated packages.\n"
     ]
    }
   ],
   "source": [
    "pip install yfinance"
   ]
  },
  {
   "cell_type": "code",
   "execution_count": 5,
   "id": "4026921e",
   "metadata": {},
   "outputs": [],
   "source": [
    "import yfinance as yf\n",
    "import numpy as np\n",
    "import pandas as pd\n",
    "import matplotlib as mpl"
   ]
  },
  {
   "cell_type": "code",
   "execution_count": 6,
   "id": "9cf84493",
   "metadata": {},
   "outputs": [
    {
     "name": "stdout",
     "output_type": "stream",
     "text": [
      "[*********************100%***********************]  1 of 1 completed\n"
     ]
    }
   ],
   "source": [
    "initial_data = yf.download(\"AAPL\", start=\"2021-03-01\", end=\"2022-03-01\")"
   ]
  },
  {
   "cell_type": "code",
   "execution_count": 8,
   "id": "7fbd7a9a",
   "metadata": {},
   "outputs": [
    {
     "data": {
      "text/html": [
       "<div>\n",
       "<style scoped>\n",
       "    .dataframe tbody tr th:only-of-type {\n",
       "        vertical-align: middle;\n",
       "    }\n",
       "\n",
       "    .dataframe tbody tr th {\n",
       "        vertical-align: top;\n",
       "    }\n",
       "\n",
       "    .dataframe thead th {\n",
       "        text-align: right;\n",
       "    }\n",
       "</style>\n",
       "<table border=\"1\" class=\"dataframe\">\n",
       "  <thead>\n",
       "    <tr style=\"text-align: right;\">\n",
       "      <th></th>\n",
       "      <th>Open</th>\n",
       "      <th>High</th>\n",
       "      <th>Low</th>\n",
       "      <th>Close</th>\n",
       "      <th>Adj Close</th>\n",
       "      <th>Volume</th>\n",
       "    </tr>\n",
       "    <tr>\n",
       "      <th>Date</th>\n",
       "      <th></th>\n",
       "      <th></th>\n",
       "      <th></th>\n",
       "      <th></th>\n",
       "      <th></th>\n",
       "      <th></th>\n",
       "    </tr>\n",
       "  </thead>\n",
       "  <tbody>\n",
       "    <tr>\n",
       "      <th>2021-03-01</th>\n",
       "      <td>123.750000</td>\n",
       "      <td>127.930000</td>\n",
       "      <td>122.790001</td>\n",
       "      <td>127.790001</td>\n",
       "      <td>127.034966</td>\n",
       "      <td>116307900</td>\n",
       "    </tr>\n",
       "    <tr>\n",
       "      <th>2021-03-02</th>\n",
       "      <td>128.410004</td>\n",
       "      <td>128.720001</td>\n",
       "      <td>125.010002</td>\n",
       "      <td>125.120003</td>\n",
       "      <td>124.380753</td>\n",
       "      <td>102260900</td>\n",
       "    </tr>\n",
       "    <tr>\n",
       "      <th>2021-03-03</th>\n",
       "      <td>124.809998</td>\n",
       "      <td>125.709999</td>\n",
       "      <td>121.839996</td>\n",
       "      <td>122.059998</td>\n",
       "      <td>121.338821</td>\n",
       "      <td>112966300</td>\n",
       "    </tr>\n",
       "    <tr>\n",
       "      <th>2021-03-04</th>\n",
       "      <td>121.750000</td>\n",
       "      <td>123.599998</td>\n",
       "      <td>118.620003</td>\n",
       "      <td>120.129997</td>\n",
       "      <td>119.420227</td>\n",
       "      <td>178155000</td>\n",
       "    </tr>\n",
       "    <tr>\n",
       "      <th>2021-03-05</th>\n",
       "      <td>120.980003</td>\n",
       "      <td>121.940002</td>\n",
       "      <td>117.570000</td>\n",
       "      <td>121.419998</td>\n",
       "      <td>120.702599</td>\n",
       "      <td>153766600</td>\n",
       "    </tr>\n",
       "  </tbody>\n",
       "</table>\n",
       "</div>"
      ],
      "text/plain": [
       "                  Open        High         Low       Close   Adj Close  \\\n",
       "Date                                                                     \n",
       "2021-03-01  123.750000  127.930000  122.790001  127.790001  127.034966   \n",
       "2021-03-02  128.410004  128.720001  125.010002  125.120003  124.380753   \n",
       "2021-03-03  124.809998  125.709999  121.839996  122.059998  121.338821   \n",
       "2021-03-04  121.750000  123.599998  118.620003  120.129997  119.420227   \n",
       "2021-03-05  120.980003  121.940002  117.570000  121.419998  120.702599   \n",
       "\n",
       "               Volume  \n",
       "Date                   \n",
       "2021-03-01  116307900  \n",
       "2021-03-02  102260900  \n",
       "2021-03-03  112966300  \n",
       "2021-03-04  178155000  \n",
       "2021-03-05  153766600  "
      ]
     },
     "execution_count": 8,
     "metadata": {},
     "output_type": "execute_result"
    }
   ],
   "source": [
    "initial_data.head()"
   ]
  },
  {
   "cell_type": "code",
   "execution_count": 9,
   "id": "260be959",
   "metadata": {},
   "outputs": [
    {
     "ename": "NameError",
     "evalue": "name 'df' is not defined",
     "output_type": "error",
     "traceback": [
      "\u001b[0;31m---------------------------------------------------------------------------\u001b[0m",
      "\u001b[0;31mNameError\u001b[0m                                 Traceback (most recent call last)",
      "Input \u001b[0;32mIn [9]\u001b[0m, in \u001b[0;36m<module>\u001b[0;34m\u001b[0m\n\u001b[1;32m      1\u001b[0m \u001b[38;5;28;01mimport\u001b[39;00m \u001b[38;5;21;01mnumpy\u001b[39;00m \u001b[38;5;28;01mas\u001b[39;00m \u001b[38;5;21;01mnp\u001b[39;00m\n\u001b[1;32m      2\u001b[0m normal_return \u001b[38;5;241m=\u001b[39m []\n\u001b[0;32m----> 3\u001b[0m \u001b[38;5;28;01mfor\u001b[39;00m i \u001b[38;5;129;01min\u001b[39;00m \u001b[38;5;28mrange\u001b[39m(\u001b[38;5;241m0\u001b[39m,\u001b[38;5;28mlen\u001b[39m(\u001b[43mdf\u001b[49m)\u001b[38;5;241m-\u001b[39m\u001b[38;5;241m1\u001b[39m):\n\u001b[1;32m      4\u001b[0m     adjclose_yesterday \u001b[38;5;241m=\u001b[39m df\u001b[38;5;241m.\u001b[39miloc[i][\u001b[38;5;124m'\u001b[39m\u001b[38;5;124mAdj Close\u001b[39m\u001b[38;5;124m'\u001b[39m]\n\u001b[1;32m      5\u001b[0m     adjclose_today \u001b[38;5;241m=\u001b[39m df\u001b[38;5;241m.\u001b[39miloc[i\u001b[38;5;241m+\u001b[39m\u001b[38;5;241m1\u001b[39m][\u001b[38;5;124m'\u001b[39m\u001b[38;5;124mAdj Close\u001b[39m\u001b[38;5;124m'\u001b[39m]\n",
      "\u001b[0;31mNameError\u001b[0m: name 'df' is not defined"
     ]
    }
   ],
   "source": [
    "import numpy as np\n",
    "normal_return = []\n",
    "for i in range(0,len(df)-1):\n",
    "    adjclose_yesterday = df.iloc[i]['Adj Close']\n",
    "    adjclose_today = df.iloc[i+1]['Adj Close']\n",
    "    x = (adjclose_today - adjclose_yesterday) / adjclose_yesterday\n",
    "    normal_return.append(x)\n",
    "normal_return[:5]"
   ]
  },
  {
   "cell_type": "code",
   "execution_count": 10,
   "id": "18eadb60",
   "metadata": {},
   "outputs": [],
   "source": [
    "df = initial_data"
   ]
  },
  {
   "cell_type": "code",
   "execution_count": 11,
   "id": "70999994",
   "metadata": {},
   "outputs": [
    {
     "data": {
      "text/plain": [
       "[-0.020893562185002493,\n",
       " -0.024456606747023248,\n",
       " -0.01581187568857935,\n",
       " 0.01073831085960663,\n",
       " -0.04167354845992894]"
      ]
     },
     "execution_count": 11,
     "metadata": {},
     "output_type": "execute_result"
    }
   ],
   "source": [
    "import numpy as np\n",
    "normal_return = []\n",
    "for i in range(0,len(df)-1):\n",
    "    adjclose_yesterday = df.iloc[i]['Adj Close']\n",
    "    adjclose_today = df.iloc[i+1]['Adj Close']\n",
    "    x = (adjclose_today - adjclose_yesterday) / adjclose_yesterday\n",
    "    normal_return.append(x)\n",
    "normal_return[:5]\n",
    "# Calculating Normal Daily Returns"
   ]
  },
  {
   "cell_type": "code",
   "execution_count": 12,
   "id": "80f9e9f9",
   "metadata": {},
   "outputs": [
    {
     "ename": "NameError",
     "evalue": "name 'data' is not defined",
     "output_type": "error",
     "traceback": [
      "\u001b[0;31m---------------------------------------------------------------------------\u001b[0m",
      "\u001b[0;31mNameError\u001b[0m                                 Traceback (most recent call last)",
      "Input \u001b[0;32mIn [12]\u001b[0m, in \u001b[0;36m<module>\u001b[0;34m\u001b[0m\n\u001b[0;32m----> 1\u001b[0m \u001b[43mdata\u001b[49m\u001b[38;5;241m.\u001b[39mdescribe()\u001b[38;5;241m.\u001b[39mround(\u001b[38;5;241m2\u001b[39m)\n",
      "\u001b[0;31mNameError\u001b[0m: name 'data' is not defined"
     ]
    }
   ],
   "source": [
    "data.describe().round(2)"
   ]
  },
  {
   "cell_type": "code",
   "execution_count": 22,
   "id": "3263d1e5",
   "metadata": {},
   "outputs": [
    {
     "data": {
      "text/html": [
       "<div>\n",
       "<style scoped>\n",
       "    .dataframe tbody tr th:only-of-type {\n",
       "        vertical-align: middle;\n",
       "    }\n",
       "\n",
       "    .dataframe tbody tr th {\n",
       "        vertical-align: top;\n",
       "    }\n",
       "\n",
       "    .dataframe thead th {\n",
       "        text-align: right;\n",
       "    }\n",
       "</style>\n",
       "<table border=\"1\" class=\"dataframe\">\n",
       "  <thead>\n",
       "    <tr style=\"text-align: right;\">\n",
       "      <th></th>\n",
       "      <th>Open</th>\n",
       "      <th>High</th>\n",
       "      <th>Low</th>\n",
       "      <th>Close</th>\n",
       "      <th>Adj Close</th>\n",
       "      <th>Volume</th>\n",
       "    </tr>\n",
       "  </thead>\n",
       "  <tbody>\n",
       "    <tr>\n",
       "      <th>count</th>\n",
       "      <td>253.00</td>\n",
       "      <td>253.00</td>\n",
       "      <td>253.00</td>\n",
       "      <td>253.00</td>\n",
       "      <td>253.00</td>\n",
       "      <td>253.0</td>\n",
       "    </tr>\n",
       "    <tr>\n",
       "      <th>mean</th>\n",
       "      <td>146.59</td>\n",
       "      <td>148.17</td>\n",
       "      <td>145.17</td>\n",
       "      <td>146.75</td>\n",
       "      <td>146.31</td>\n",
       "      <td>88820358.5</td>\n",
       "    </tr>\n",
       "    <tr>\n",
       "      <th>std</th>\n",
       "      <td>17.26</td>\n",
       "      <td>17.59</td>\n",
       "      <td>16.96</td>\n",
       "      <td>17.29</td>\n",
       "      <td>17.48</td>\n",
       "      <td>27645171.2</td>\n",
       "    </tr>\n",
       "    <tr>\n",
       "      <th>min</th>\n",
       "      <td>119.03</td>\n",
       "      <td>120.40</td>\n",
       "      <td>116.21</td>\n",
       "      <td>116.36</td>\n",
       "      <td>115.67</td>\n",
       "      <td>41000000.0</td>\n",
       "    </tr>\n",
       "    <tr>\n",
       "      <th>25%</th>\n",
       "      <td>131.78</td>\n",
       "      <td>133.04</td>\n",
       "      <td>130.63</td>\n",
       "      <td>131.94</td>\n",
       "      <td>131.23</td>\n",
       "      <td>69023100.0</td>\n",
       "    </tr>\n",
       "    <tr>\n",
       "      <th>50%</th>\n",
       "      <td>146.35</td>\n",
       "      <td>147.79</td>\n",
       "      <td>145.56</td>\n",
       "      <td>146.55</td>\n",
       "      <td>146.15</td>\n",
       "      <td>84566500.0</td>\n",
       "    </tr>\n",
       "    <tr>\n",
       "      <th>75%</th>\n",
       "      <td>159.37</td>\n",
       "      <td>162.14</td>\n",
       "      <td>157.02</td>\n",
       "      <td>160.07</td>\n",
       "      <td>160.04</td>\n",
       "      <td>104487900.0</td>\n",
       "    </tr>\n",
       "    <tr>\n",
       "      <th>max</th>\n",
       "      <td>182.63</td>\n",
       "      <td>182.94</td>\n",
       "      <td>179.12</td>\n",
       "      <td>182.01</td>\n",
       "      <td>181.78</td>\n",
       "      <td>195432700.0</td>\n",
       "    </tr>\n",
       "  </tbody>\n",
       "</table>\n",
       "</div>"
      ],
      "text/plain": [
       "         Open    High     Low   Close  Adj Close       Volume\n",
       "count  253.00  253.00  253.00  253.00     253.00        253.0\n",
       "mean   146.59  148.17  145.17  146.75     146.31   88820358.5\n",
       "std     17.26   17.59   16.96   17.29      17.48   27645171.2\n",
       "min    119.03  120.40  116.21  116.36     115.67   41000000.0\n",
       "25%    131.78  133.04  130.63  131.94     131.23   69023100.0\n",
       "50%    146.35  147.79  145.56  146.55     146.15   84566500.0\n",
       "75%    159.37  162.14  157.02  160.07     160.04  104487900.0\n",
       "max    182.63  182.94  179.12  182.01     181.78  195432700.0"
      ]
     },
     "execution_count": 22,
     "metadata": {},
     "output_type": "execute_result"
    }
   ],
   "source": [
    "df.describe().round(2)\n",
    "# Summary of Apple Stock for the year"
   ]
  },
  {
   "cell_type": "code",
   "execution_count": 14,
   "id": "8579e6fa",
   "metadata": {},
   "outputs": [
    {
     "data": {
      "text/plain": [
       "[-0.021114921406267733,\n",
       " -0.02476063681966572,\n",
       " -0.015938216959757227,\n",
       " 0.010681064653276687,\n",
       " -0.042566795446244476]"
      ]
     },
     "execution_count": 14,
     "metadata": {},
     "output_type": "execute_result"
    }
   ],
   "source": [
    "log_return = []\n",
    "for i in range(0,len(df)-1):\n",
    "    adjclose_yesterday = df.iloc[i]['Adj Close']\n",
    "    adjclose_today = df.iloc[i+1]['Adj Close']\n",
    "    y = np.log(adjclose_today / adjclose_yesterday)\n",
    "    log_return.append(y)\n",
    "log_return[:5]\n",
    "# Calculating Normal Daily Returns"
   ]
  },
  {
   "cell_type": "code",
   "execution_count": 15,
   "id": "731b2903",
   "metadata": {},
   "outputs": [
    {
     "name": "stdout",
     "output_type": "stream",
     "text": [
      "The annulized normal return is 0.29177562 and its annulized volatility is 0.24342012\n"
     ]
    }
   ],
   "source": [
    "dfnr = pd.DataFrame(normal_return, columns = ['normal']) \n",
    "nr = dfnr.mean() * len(dfnr)\n",
    "nv = dfnr.std() * (len(dfnr) ** 0.5)\n",
    "print('The annulized normal return is %.8f and its annulized volatility is %.8f' % (nr,nv))\n"
   ]
  },
  {
   "cell_type": "code",
   "execution_count": 16,
   "id": "22b7e350",
   "metadata": {},
   "outputs": [
    {
     "name": "stdout",
     "output_type": "stream",
     "text": [
      "normal    0.291776\n",
      "dtype: float64 normal    0.24342\n",
      "dtype: float64\n"
     ]
    }
   ],
   "source": [
    "dfnr = pd.DataFrame(normal_return, columns = ['normal']) \n",
    "nr = dfnr.mean() * len(dfnr)\n",
    "nv = dfnr.std() * (len(dfnr) ** 0.5)\n",
    "print(nr,nv)\n",
    "# The 0.8 after the % (%.8f) means the answer should be to 8 decimal places\n"
   ]
  },
  {
   "cell_type": "code",
   "execution_count": 17,
   "id": "071d5620",
   "metadata": {},
   "outputs": [
    {
     "name": "stdout",
     "output_type": "stream",
     "text": [
      "The annulized normal return is 0.29177562 and its annulized volatility is 0.24342012\n"
     ]
    }
   ],
   "source": [
    "dfnr = pd.DataFrame(normal_return, columns = ['normal']) \n",
    "nr = dfnr.mean() * len(dfnr)\n",
    "nv = dfnr.std() * (len(dfnr) ** 0.5)\n",
    "print('The annulized normal return is %.8f and its annulized volatility is %.8f' % (nr,nv))\n",
    "\n"
   ]
  },
  {
   "cell_type": "code",
   "execution_count": 18,
   "id": "edb31d9a",
   "metadata": {},
   "outputs": [
    {
     "name": "stdout",
     "output_type": "stream",
     "text": [
      "       normal\n",
      "0   -0.020894\n",
      "1   -0.024457\n",
      "2   -0.015812\n",
      "3    0.010738\n",
      "4   -0.041674\n",
      "..        ...\n",
      "247 -0.017812\n",
      "248 -0.025864\n",
      "249  0.016680\n",
      "250  0.012965\n",
      "251  0.001638\n",
      "\n",
      "[252 rows x 1 columns]\n"
     ]
    }
   ],
   "source": [
    "print(dfnr)\n",
    "#Printing dfnr to see what it represents"
   ]
  },
  {
   "cell_type": "code",
   "execution_count": 19,
   "id": "37d55a20",
   "metadata": {},
   "outputs": [
    {
     "name": "stdout",
     "output_type": "stream",
     "text": [
      "The annulized log return is 0.26221009 and its annulized volatility is 0.24287687\n"
     ]
    }
   ],
   "source": [
    "dflr = pd.DataFrame(log_return, columns = ['log']) \n",
    "lr = dflr.mean() * len(dflr)\n",
    "lv = dflr.std() * (len(dflr) ** 0.5)\n",
    "print('The annulized log return is %.8f and its annulized volatility is %.8f' % (lr,lv))"
   ]
  },
  {
   "cell_type": "code",
   "execution_count": 20,
   "id": "b649018d",
   "metadata": {},
   "outputs": [
    {
     "data": {
      "image/png": "[encoded data removed]",
      "text/plain": [
       "<Figure size 432x288 with 1 Axes>"
      ]
     },
     "metadata": {
      "needs_background": "light"
     },
     "output_type": "display_data"
    }
   ],
   "source": [
    "import matplotlib.pyplot as plt\n",
    "fig = plt.figure()\n",
    "plt.plot(df['Close'])\n",
    "plt.xlabel('Days')\n",
    "plt.ylabel('Price ($)')\n",
    "plt.title('Closed Price');"
   ]
  },
  {
   "cell_type": "code",
   "execution_count": 24,
   "id": "1f13175a",
   "metadata": {},
   "outputs": [
    {
     "data": {
      "image/png": "[encoded data removed]",
      "text/plain": [
       "<Figure size 432x288 with 1 Axes>"
      ]
     },
     "metadata": {
      "needs_background": "light"
     },
     "output_type": "display_data"
    }
   ],
   "source": [
    "fig = plt.figure()\n",
    "plt.plot(dflr * 100)\n",
    "plt.xlabel('Days')\n",
    "plt.ylabel('Percentage % ')\n",
    "plt.title('Log Return');"
   ]
  },
  {
   "cell_type": "code",
   "execution_count": null,
   "id": "809033c9",
   "metadata": {},
   "outputs": [],
   "source": []
  }
 ],
 "metadata": {
  "kernelspec": {
   "display_name": "Python 3 (ipykernel)",
   "language": "python",
   "name": "python3"
  },
  "language_info": {
   "codemirror_mode": {
    "name": "ipython",
    "version": 3
   },
   "file_extension": ".py",
   "mimetype": "text/x-python",
   "name": "python",
   "nbconvert_exporter": "python",
   "pygments_lexer": "ipython3",
   "version": "3.9.9"
  }
 },
 "nbformat": 4,
 "nbformat_minor": 5
}
